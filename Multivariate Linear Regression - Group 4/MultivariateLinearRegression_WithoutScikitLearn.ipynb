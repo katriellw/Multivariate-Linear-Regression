{
 "cells": [
  {
   "cell_type": "markdown",
   "metadata": {},
   "source": [
    "# Multiple linear regression "
   ]
  },
  {
   "cell_type": "markdown",
   "metadata": {},
   "source": [
    "Multiple Linear Regression Using Python (without scikit learn library)\n",
    "\n",
    "Group 4:\n",
    "- 2502400853 - Gregorius Henry Wirawan \n",
    "- 2502400802 - Katriel Larissa Wiguna\n",
    "- 2502401055 - Michael Tantowen"
   ]
  },
  {
   "cell_type": "code",
   "execution_count": 27,
   "metadata": {},
   "outputs": [],
   "source": [
    "import numpy as np\n",
    "import matplotlib.pyplot as plt\n",
    "import pandas as pd"
   ]
  },
  {
   "cell_type": "code",
   "execution_count": 28,
   "metadata": {},
   "outputs": [],
   "source": [
    "class LinearRegression:\n",
    "    def __init__(self,X,Y): \n",
    "        ones=np.ones(X.shape)\n",
    "        X=np.append(ones,X,axis=1)\n",
    "        self.X=X\n",
    "        self.Y=Y\n",
    "        self.m=X.shape[0]\n",
    "        self.n=X.shape[1]\n",
    "        self.theta=np.random.randn(X.shape[1])\n",
    "        \n",
    "    def computeCostFunction(self):\n",
    "        h=np.matmul(self.X,self.theta)\n",
    "        self.J=(1/(2*self.m))*np.sum((h-self.Y)**2)\n",
    "        return self.J\n",
    "    \n",
    "    def performGradientDescent(self,num_of_iter,alpha):\n",
    "        self.Cost_history=[]\n",
    "        self.theta_history=[]\n",
    "        for x in range(num_of_iter):\n",
    "            h=np.matmul(self.X,self.theta)\n",
    "            J=self.computeCostFunction()\n",
    "            self.Cost_history.append(J)\n",
    "            self.theta_history.append(self.theta)\n",
    "            temp=h-self.Y\n",
    "            self.theta=self.theta-(alpha/self.m)*(self.X.T.dot(temp))\n",
    "        return self.theta,self.Cost_history,self.theta_history\n",
    "            \n",
    "        \n",
    "    def predict(self,X_test,Y_test):\n",
    "        ones=np.ones(X_test.shape)\n",
    "        X_test=np.append(ones,X_test,axis=1)\n",
    "        self.Y_pred=np.matmul(X_test,self.theta)\n",
    "        self.error_percentage=(abs(self.Y_pred-Y_test)/Y_test)*100\n",
    "        return self.Y_pred,self.error_percentage\n",
    "    \n",
    "    def predictUsingNormalEquation(self,X_test,Y_test):\n",
    "        ones=np.ones(X_test.shape)\n",
    "        X_test=np.append(ones,X_test,axis=1)\n",
    "        inv=np.linalg.pinv(np.matmul(self.X.T,self.X))\n",
    "        self.w=np.matmul(np.matmul(inv,self.X.T),self.Y)\n",
    "        y_pred=np.matmul(X_test,self.w)\n",
    "        return y_pred,(abs(Y_test-y_pred)/Y_test)*100\n",
    "        \n",
    "    def returnTheta(self):\n",
    "        return self.theta\n",
    "    \n",
    "    def returnX(self):\n",
    "        return self.X\n",
    "        \n",
    "    def returnY(self):\n",
    "        return self.Y\n"
   ]
  },
  {
   "cell_type": "code",
   "execution_count": 29,
   "metadata": {},
   "outputs": [],
   "source": [
    "class FeatureScaling:\n",
    "    def __init__(self,X,y):\n",
    "        self.X=X.copy()\n",
    "        if y.ndim==1:\n",
    "            y=np.reshape(y,(y.shape[0],1))\n",
    "        self.y=y.copy()\n",
    "        self.minMax_X={}\n",
    "        self.minMax_y={}\n",
    "    \n",
    "    def fit_transform_X(self):\n",
    "        num_of_features=self.X.shape[1]\n",
    "        for i in range(num_of_features):\n",
    "            feature=self.X[:,i]\n",
    "            Mean=np.mean(feature)\n",
    "            Min=np.min(feature)\n",
    "            Max=np.max(feature)\n",
    "            feature=(feature-Mean)/(Max-Min)\n",
    "            self.minMax_X[i]=np.array([Mean,Min,Max])\n",
    "            self.X[:,i]=feature\n",
    "        return self.X.copy()\n",
    "    \n",
    "    def fit_transform_Y(self):\n",
    "        num_of_features=self.y.shape[1]\n",
    "        for i in range(num_of_features):\n",
    "            feature=self.y[:,i]\n",
    "            Mean=np.mean(feature)\n",
    "            Min=np.min(feature)\n",
    "            Max=np.max(feature)\n",
    "            feature=(feature-Mean)/(Max-Min)\n",
    "            self.minMax_y[i]=np.array([Mean,Min,Max])\n",
    "            self.y[:,i]=feature\n",
    "        return np.reshape(self.y,self.y.shape[0])\n",
    "    \n",
    "    def inverse_transform_X(self,X):\n",
    "        X_transformed=X.copy()\n",
    "        num_of_features=X_transformed.shape[1]\n",
    "        for i in range(num_of_features):\n",
    "            feature=X_transformed[:,i]\n",
    "            Mean=self.minMax_X[i][0]\n",
    "            Min=self.minMax_X[i][1]\n",
    "            Max=self.minMax_X[i][2]\n",
    "            feature=feature*(Max-Min)+Mean\n",
    "            X_transformed[:,i]=feature\n",
    "        return X_transformed\n",
    "    \n",
    "    def inverse_transform_Y(self,y):\n",
    "        y_transformed=y.copy()\n",
    "        if y_transformed.ndim==1:\n",
    "            y_transformed=np.reshape(y_transformed,(y_transformed.shape[0],1))\n",
    "        num_of_features=y_transformed.shape[1]\n",
    "        for i in range(num_of_features):\n",
    "            feature=y_transformed[:,i]\n",
    "            Mean=self.minMax_y[i][0]\n",
    "            Min=self.minMax_y[i][1]\n",
    "            Max=self.minMax_y[i][2]\n",
    "            feature=feature*(Max-Min)+Mean\n",
    "            y_transformed[:,i]=feature\n",
    "        return np.reshape(y_transformed,y_transformed.shape[0])\n",
    "    \n",
    "    def transform_X(self,X):\n",
    "        X_transformed=X.copy()\n",
    "        num_of_features=X_transformed.shape[1]\n",
    "        for i in range(num_of_features):\n",
    "            feature=X_transformed[:,i]\n",
    "            Mean=self.minMax_X[i][0]\n",
    "            Min=self.minMax_y[i][1]\n",
    "            Max=self.minMax_y[i][2]\n",
    "            feature=(feature-Mean)/(Max-Min)\n",
    "            X_transformed[:,i]=feature\n",
    "        return X_transformed\n",
    "    \n",
    "    def transform_Y(self,y):\n",
    "        y_transformed=y.copy()\n",
    "        if y_transformed.ndim==1:\n",
    "            y_transformed=np.reshape(y_transformed,(y_transformed.shape[0],1))\n",
    "        num_of_features=y_transformed.shape[1]\n",
    "        for i in range(num_of_features):\n",
    "            feature=y_transformed[:,i]\n",
    "            Mean=self.minMax_y[i][0]\n",
    "            Min=self.minMax_y[i][1]\n",
    "            Max=self.minMax_y[i][2]\n",
    "            feature=(feature-Mean)/(Max-Min)\n",
    "            y_transformed[:,i]=feature\n",
    "        return np.reshape(y_transformed,y_transformed.shape[0])\n",
    "    \n",
    "    def returnX(self):\n",
    "        return self.X\n",
    "    \n",
    "    def returnY(self):\n",
    "        return self.y\n",
    "        \n",
    "        "
   ]
  },
  {
   "cell_type": "code",
   "execution_count": 30,
   "metadata": {},
   "outputs": [],
   "source": [
    "import numpy as np\n",
    "import matplotlib.pyplot as plt\n",
    "import pandas as pd\n",
    "from LinearRegression import LinearRegression"
   ]
  },
  {
   "cell_type": "code",
   "execution_count": 31,
   "metadata": {},
   "outputs": [
    {
     "name": "stdout",
     "output_type": "stream",
     "text": [
      "    R&D Spend  Administration  Marketing Spend       State     Profit\n",
      "0   165349.20       136897.80        471784.10    New York  192261.83\n",
      "1   162597.70       151377.59        443898.53  California  191792.06\n",
      "2   153441.51       101145.55        407934.54     Florida  191050.39\n",
      "3   144372.41       118671.85        383199.62    New York  182901.99\n",
      "4   142107.34        91391.77        366168.42     Florida  166187.94\n",
      "5   131876.90        99814.71        362861.36    New York  156991.12\n",
      "6   134615.46       147198.87        127716.82  California  156122.51\n",
      "7   130298.13       145530.06        323876.68     Florida  155752.60\n",
      "8   120542.52       148718.95        311613.29    New York  152211.77\n",
      "9   123334.88       108679.17        304981.62  California  149759.96\n",
      "10  101913.08       110594.11        229160.95     Florida  146121.95\n",
      "11  100671.96        91790.61        249744.55  California  144259.40\n",
      "12   93863.75       127320.38        249839.44     Florida  141585.52\n",
      "13   91992.39       135495.07        252664.93  California  134307.35\n",
      "14  119943.24       156547.42        256512.92     Florida  132602.65\n",
      "15  114523.61       122616.84        261776.23    New York  129917.04\n",
      "16   78013.11       121597.55        264346.06  California  126992.93\n",
      "17   94657.16       145077.58        282574.31    New York  125370.37\n",
      "18   91749.16       114175.79        294919.57     Florida  124266.90\n",
      "19   86419.70       153514.11             0.00    New York  122776.86\n",
      "20   76253.86       113867.30        298664.47  California  118474.03\n",
      "21   78389.47       153773.43        299737.29    New York  111313.02\n",
      "22   73994.56       122782.75        303319.26     Florida  110352.25\n",
      "23   67532.53       105751.03        304768.73     Florida  108733.99\n",
      "24   77044.01        99281.34        140574.81    New York  108552.04\n",
      "25   64664.71       139553.16        137962.62  California  107404.34\n",
      "26   75328.87       144135.98        134050.07     Florida  105733.54\n",
      "27   72107.60       127864.55        353183.81    New York  105008.31\n",
      "28   66051.52       182645.56        118148.20     Florida  103282.38\n",
      "29   65605.48       153032.06        107138.38    New York  101004.64\n",
      "30   61994.48       115641.28         91131.24     Florida   99937.59\n",
      "31   61136.38       152701.92         88218.23    New York   97483.56\n",
      "32   63408.86       129219.61         46085.25  California   97427.84\n",
      "33   55493.95       103057.49        214634.81     Florida   96778.92\n",
      "34   46426.07       157693.92        210797.67  California   96712.80\n",
      "35   46014.02        85047.44        205517.64    New York   96479.51\n",
      "36   28663.76       127056.21        201126.82     Florida   90708.19\n",
      "37   44069.95        51283.14        197029.42  California   89949.14\n",
      "38   20229.59        65947.93        185265.10    New York   81229.06\n",
      "39   38558.51        82982.09        174999.30  California   81005.76\n",
      "40   28754.33       118546.05        172795.67  California   78239.91\n",
      "41   27892.92        84710.77        164470.71     Florida   77798.83\n",
      "42   23640.93        96189.63        148001.11  California   71498.49\n",
      "43   15505.73       127382.30         35534.17    New York   69758.98\n",
      "44   22177.74       154806.14         28334.72  California   65200.33\n",
      "45    1000.23       124153.04          1903.93    New York   64926.08\n",
      "46    1315.46       115816.21        297114.46     Florida   49490.75\n",
      "47       0.00       135426.92             0.00  California   42559.73\n",
      "48     542.05        51743.15             0.00    New York   35673.41\n",
      "49       0.00       116983.80         45173.06  California   14681.40\n"
     ]
    }
   ],
   "source": [
    "Data=pd.read_csv('Startups.csv')\n",
    "print(Data)"
   ]
  },
  {
   "cell_type": "code",
   "execution_count": 32,
   "metadata": {},
   "outputs": [],
   "source": [
    "# Delete data yang memiliki value 0 \n",
    "Data = Data[(Data != 0).all(axis=1)]"
   ]
  },
  {
   "cell_type": "code",
   "execution_count": 33,
   "metadata": {},
   "outputs": [
    {
     "name": "stdout",
     "output_type": "stream",
     "text": [
      "    R&D Spend  Administration  Marketing Spend  California  Florida  New York  \\\n",
      "0   165349.20       136897.80        471784.10         0.0      0.0       1.0   \n",
      "1   162597.70       151377.59        443898.53         1.0      0.0       0.0   \n",
      "2   153441.51       101145.55        407934.54         0.0      1.0       0.0   \n",
      "3   144372.41       118671.85        383199.62         0.0      0.0       1.0   \n",
      "4   142107.34        91391.77        366168.42         0.0      1.0       0.0   \n",
      "5   131876.90        99814.71        362861.36         0.0      0.0       1.0   \n",
      "6   134615.46       147198.87        127716.82         1.0      0.0       0.0   \n",
      "7   130298.13       145530.06        323876.68         0.0      1.0       0.0   \n",
      "8   120542.52       148718.95        311613.29         0.0      0.0       1.0   \n",
      "9   123334.88       108679.17        304981.62         1.0      0.0       0.0   \n",
      "10  101913.08       110594.11        229160.95         0.0      1.0       0.0   \n",
      "11  100671.96        91790.61        249744.55         1.0      0.0       0.0   \n",
      "12   93863.75       127320.38        249839.44         0.0      1.0       0.0   \n",
      "13   91992.39       135495.07        252664.93         1.0      0.0       0.0   \n",
      "14  119943.24       156547.42        256512.92         0.0      1.0       0.0   \n",
      "15  114523.61       122616.84        261776.23         0.0      0.0       1.0   \n",
      "16   78013.11       121597.55        264346.06         1.0      0.0       0.0   \n",
      "17   94657.16       145077.58        282574.31         0.0      0.0       1.0   \n",
      "18   91749.16       114175.79        294919.57         0.0      1.0       0.0   \n",
      "20   76253.86       113867.30        298664.47         1.0      0.0       0.0   \n",
      "21   78389.47       153773.43        299737.29         0.0      0.0       1.0   \n",
      "22   73994.56       122782.75        303319.26         0.0      1.0       0.0   \n",
      "23   67532.53       105751.03        304768.73         0.0      1.0       0.0   \n",
      "24   77044.01        99281.34        140574.81         0.0      0.0       1.0   \n",
      "25   64664.71       139553.16        137962.62         1.0      0.0       0.0   \n",
      "26   75328.87       144135.98        134050.07         0.0      1.0       0.0   \n",
      "27   72107.60       127864.55        353183.81         0.0      0.0       1.0   \n",
      "28   66051.52       182645.56        118148.20         0.0      1.0       0.0   \n",
      "29   65605.48       153032.06        107138.38         0.0      0.0       1.0   \n",
      "30   61994.48       115641.28         91131.24         0.0      1.0       0.0   \n",
      "31   61136.38       152701.92         88218.23         0.0      0.0       1.0   \n",
      "32   63408.86       129219.61         46085.25         1.0      0.0       0.0   \n",
      "33   55493.95       103057.49        214634.81         0.0      1.0       0.0   \n",
      "34   46426.07       157693.92        210797.67         1.0      0.0       0.0   \n",
      "35   46014.02        85047.44        205517.64         0.0      0.0       1.0   \n",
      "36   28663.76       127056.21        201126.82         0.0      1.0       0.0   \n",
      "37   44069.95        51283.14        197029.42         1.0      0.0       0.0   \n",
      "38   20229.59        65947.93        185265.10         0.0      0.0       1.0   \n",
      "39   38558.51        82982.09        174999.30         1.0      0.0       0.0   \n",
      "40   28754.33       118546.05        172795.67         1.0      0.0       0.0   \n",
      "41   27892.92        84710.77        164470.71         0.0      1.0       0.0   \n",
      "42   23640.93        96189.63        148001.11         1.0      0.0       0.0   \n",
      "43   15505.73       127382.30         35534.17         0.0      0.0       1.0   \n",
      "44   22177.74       154806.14         28334.72         1.0      0.0       0.0   \n",
      "45    1000.23       124153.04          1903.93         0.0      0.0       1.0   \n",
      "46    1315.46       115816.21        297114.46         0.0      1.0       0.0   \n",
      "\n",
      "       Profit  \n",
      "0   192261.83  \n",
      "1   191792.06  \n",
      "2   191050.39  \n",
      "3   182901.99  \n",
      "4   166187.94  \n",
      "5   156991.12  \n",
      "6   156122.51  \n",
      "7   155752.60  \n",
      "8   152211.77  \n",
      "9   149759.96  \n",
      "10  146121.95  \n",
      "11  144259.40  \n",
      "12  141585.52  \n",
      "13  134307.35  \n",
      "14  132602.65  \n",
      "15  129917.04  \n",
      "16  126992.93  \n",
      "17  125370.37  \n",
      "18  124266.90  \n",
      "20  118474.03  \n",
      "21  111313.02  \n",
      "22  110352.25  \n",
      "23  108733.99  \n",
      "24  108552.04  \n",
      "25  107404.34  \n",
      "26  105733.54  \n",
      "27  105008.31  \n",
      "28  103282.38  \n",
      "29  101004.64  \n",
      "30   99937.59  \n",
      "31   97483.56  \n",
      "32   97427.84  \n",
      "33   96778.92  \n",
      "34   96712.80  \n",
      "35   96479.51  \n",
      "36   90708.19  \n",
      "37   89949.14  \n",
      "38   81229.06  \n",
      "39   81005.76  \n",
      "40   78239.91  \n",
      "41   77798.83  \n",
      "42   71498.49  \n",
      "43   69758.98  \n",
      "44   65200.33  \n",
      "45   64926.08  \n",
      "46   49490.75  \n"
     ]
    }
   ],
   "source": [
    "dummies = pd.get_dummies(Data['State'])\n",
    "Data = Data.drop('State', axis=1)\n",
    "Data = pd.concat([Data.iloc[:, :3], dummies.astype('float64'), Data.iloc[:, 3:]], axis=1)\n",
    "print(Data)"
   ]
  },
  {
   "cell_type": "code",
   "execution_count": 34,
   "metadata": {},
   "outputs": [
    {
     "data": {
      "text/html": [
       "<div>\n",
       "<style scoped>\n",
       "    .dataframe tbody tr th:only-of-type {\n",
       "        vertical-align: middle;\n",
       "    }\n",
       "\n",
       "    .dataframe tbody tr th {\n",
       "        vertical-align: top;\n",
       "    }\n",
       "\n",
       "    .dataframe thead th {\n",
       "        text-align: right;\n",
       "    }\n",
       "</style>\n",
       "<table border=\"1\" class=\"dataframe\">\n",
       "  <thead>\n",
       "    <tr style=\"text-align: right;\">\n",
       "      <th></th>\n",
       "      <th>R&amp;D Spend</th>\n",
       "      <th>Administration</th>\n",
       "      <th>Marketing Spend</th>\n",
       "      <th>California</th>\n",
       "      <th>Florida</th>\n",
       "      <th>New York</th>\n",
       "      <th>Profit</th>\n",
       "    </tr>\n",
       "  </thead>\n",
       "  <tbody>\n",
       "    <tr>\n",
       "      <th>count</th>\n",
       "      <td>46.000000</td>\n",
       "      <td>46.000000</td>\n",
       "      <td>46.000000</td>\n",
       "      <td>46.000000</td>\n",
       "      <td>46.000000</td>\n",
       "      <td>46.000000</td>\n",
       "      <td>46.000000</td>\n",
       "    </tr>\n",
       "    <tr>\n",
       "      <th>mean</th>\n",
       "      <td>78241.718043</td>\n",
       "      <td>121947.043478</td>\n",
       "      <td>228393.083261</td>\n",
       "      <td>0.326087</td>\n",
       "      <td>0.347826</td>\n",
       "      <td>0.326087</td>\n",
       "      <td>117063.925217</td>\n",
       "    </tr>\n",
       "    <tr>\n",
       "      <th>std</th>\n",
       "      <td>43695.348335</td>\n",
       "      <td>26812.767940</td>\n",
       "      <td>111336.691801</td>\n",
       "      <td>0.473960</td>\n",
       "      <td>0.481543</td>\n",
       "      <td>0.473960</td>\n",
       "      <td>35960.003971</td>\n",
       "    </tr>\n",
       "    <tr>\n",
       "      <th>min</th>\n",
       "      <td>1000.230000</td>\n",
       "      <td>51283.140000</td>\n",
       "      <td>1903.930000</td>\n",
       "      <td>0.000000</td>\n",
       "      <td>0.000000</td>\n",
       "      <td>0.000000</td>\n",
       "      <td>49490.750000</td>\n",
       "    </tr>\n",
       "    <tr>\n",
       "      <th>25%</th>\n",
       "      <td>46117.032500</td>\n",
       "      <td>103730.875000</td>\n",
       "      <td>142431.385000</td>\n",
       "      <td>0.000000</td>\n",
       "      <td>0.000000</td>\n",
       "      <td>0.000000</td>\n",
       "      <td>96537.832500</td>\n",
       "    </tr>\n",
       "    <tr>\n",
       "      <th>50%</th>\n",
       "      <td>74661.715000</td>\n",
       "      <td>122699.795000</td>\n",
       "      <td>239452.750000</td>\n",
       "      <td>0.000000</td>\n",
       "      <td>0.000000</td>\n",
       "      <td>0.000000</td>\n",
       "      <td>108643.015000</td>\n",
       "    </tr>\n",
       "    <tr>\n",
       "      <th>75%</th>\n",
       "      <td>111370.977500</td>\n",
       "      <td>144842.180000</td>\n",
       "      <td>302423.767500</td>\n",
       "      <td>1.000000</td>\n",
       "      <td>1.000000</td>\n",
       "      <td>1.000000</td>\n",
       "      <td>143590.930000</td>\n",
       "    </tr>\n",
       "    <tr>\n",
       "      <th>max</th>\n",
       "      <td>165349.200000</td>\n",
       "      <td>182645.560000</td>\n",
       "      <td>471784.100000</td>\n",
       "      <td>1.000000</td>\n",
       "      <td>1.000000</td>\n",
       "      <td>1.000000</td>\n",
       "      <td>192261.830000</td>\n",
       "    </tr>\n",
       "  </tbody>\n",
       "</table>\n",
       "</div>"
      ],
      "text/plain": [
       "           R&D Spend  Administration  Marketing Spend  California    Florida  \\\n",
       "count      46.000000       46.000000        46.000000   46.000000  46.000000   \n",
       "mean    78241.718043   121947.043478    228393.083261    0.326087   0.347826   \n",
       "std     43695.348335    26812.767940    111336.691801    0.473960   0.481543   \n",
       "min      1000.230000    51283.140000      1903.930000    0.000000   0.000000   \n",
       "25%     46117.032500   103730.875000    142431.385000    0.000000   0.000000   \n",
       "50%     74661.715000   122699.795000    239452.750000    0.000000   0.000000   \n",
       "75%    111370.977500   144842.180000    302423.767500    1.000000   1.000000   \n",
       "max    165349.200000   182645.560000    471784.100000    1.000000   1.000000   \n",
       "\n",
       "        New York         Profit  \n",
       "count  46.000000      46.000000  \n",
       "mean    0.326087  117063.925217  \n",
       "std     0.473960   35960.003971  \n",
       "min     0.000000   49490.750000  \n",
       "25%     0.000000   96537.832500  \n",
       "50%     0.000000  108643.015000  \n",
       "75%     1.000000  143590.930000  \n",
       "max     1.000000  192261.830000  "
      ]
     },
     "execution_count": 34,
     "metadata": {},
     "output_type": "execute_result"
    }
   ],
   "source": [
    "Data.describe()"
   ]
  },
  {
   "cell_type": "code",
   "execution_count": 35,
   "metadata": {},
   "outputs": [
    {
     "name": "stdout",
     "output_type": "stream",
     "text": [
      "Training set size : 32\n",
      "Testing set size : 13\n"
     ]
    }
   ],
   "source": [
    "#training and testing size\n",
    "train_size=int(0.7*Data.shape[0])\n",
    "test_size=int(0.3*Data.shape[0])\n",
    "print(\"Training set size : \"+ str(train_size))\n",
    "print(\"Testing set size : \"+str(test_size))"
   ]
  },
  {
   "cell_type": "code",
   "execution_count": 36,
   "metadata": {},
   "outputs": [],
   "source": [
    "#shuffle the dataset\n",
    "Data=Data.sample(frac=1)\n",
    "X=Data.iloc[:,0:6].values\n",
    "y=Data.iloc[:,6].values"
   ]
  },
  {
   "cell_type": "code",
   "execution_count": 37,
   "metadata": {},
   "outputs": [],
   "source": [
    "from FeatureScaling import FeatureScaling\n",
    "fs=FeatureScaling(X,y)\n",
    "X=fs.fit_transform_X()\n",
    "y=fs.fit_transform_Y()"
   ]
  },
  {
   "cell_type": "code",
   "execution_count": 38,
   "metadata": {},
   "outputs": [],
   "source": [
    "#training set split\n",
    "X_train=X[0:train_size,:]\n",
    "Y_train=y[0:train_size]"
   ]
  },
  {
   "cell_type": "code",
   "execution_count": 39,
   "metadata": {},
   "outputs": [
    {
     "name": "stdout",
     "output_type": "stream",
     "text": [
      "(32, 6)\n",
      "(32,)\n"
     ]
    }
   ],
   "source": [
    "print(X_train.shape)\n",
    "print(Y_train.shape)"
   ]
  },
  {
   "cell_type": "code",
   "execution_count": 40,
   "metadata": {},
   "outputs": [],
   "source": [
    "#testing set split\n",
    "X_test=X[train_size:,:]\n",
    "Y_test=y[train_size:]"
   ]
  },
  {
   "cell_type": "code",
   "execution_count": 41,
   "metadata": {},
   "outputs": [
    {
     "name": "stdout",
     "output_type": "stream",
     "text": [
      "(14, 6)\n",
      "(14,)\n"
     ]
    }
   ],
   "source": [
    "print(X_test.shape)\n",
    "print(Y_test.shape)"
   ]
  },
  {
   "cell_type": "code",
   "execution_count": 42,
   "metadata": {},
   "outputs": [
    {
     "data": {
      "image/png": "[encoded data removed]",
      "text/plain": [
       "<Figure size 640x480 with 1 Axes>"
      ]
     },
     "metadata": {},
     "output_type": "display_data"
    }
   ],
   "source": [
    "#scatter plot \n",
    "plt.scatter(Data['R&D Spend'], Data['Profit'], label='R&D Spend')\n",
    "plt.scatter(Data['Administration'], Data['Profit'], label='Administration')\n",
    "plt.scatter(Data['Marketing Spend'], Data['Profit'], label='Marketing Spend')\n",
    "plt.scatter(Data['California'], Data['Profit'], label = 'State CA')\n",
    "plt.scatter(Data['Florida'], Data['Profit'], label='State FL')\n",
    "plt.scatter(Data['New York'], Data['Profit'], label='State NY')\n",
    "\n",
    "#Adding labels and legends\n",
    "plt.xlabel('X Labels')\n",
    "plt.ylabel('Profit')\n",
    "plt.legend()\n",
    "\n",
    "#Display the plot\n",
    "plt.show()"
   ]
  },
  {
   "cell_type": "code",
   "execution_count": 43,
   "metadata": {},
   "outputs": [],
   "source": [
    "lr=LinearRegression(X_train,Y_train)"
   ]
  },
  {
   "cell_type": "code",
   "execution_count": 44,
   "metadata": {},
   "outputs": [
    {
     "name": "stdout",
     "output_type": "stream",
     "text": [
      "[ 0.24388744 -0.22078586 -0.27150492  0.6855388   0.70298114 -0.36023333\n",
      " -0.0637584  -0.41041768  0.3591582   0.16407031 -0.47718837 -0.06398001]\n"
     ]
    }
   ],
   "source": [
    "theta=lr.returnTheta()\n",
    "print(theta)"
   ]
  },
  {
   "cell_type": "code",
   "execution_count": 45,
   "metadata": {},
   "outputs": [
    {
     "name": "stdout",
     "output_type": "stream",
     "text": [
      "[106.54168536  -0.51561991 -54.01571881 -55.18926117  -0.94799589\n",
      "  65.61073768 -12.49736204  -6.40471819 143.41669873 -26.82998743\n",
      " -22.66386713  15.50802996 -60.10929295  11.7619766 ]\n"
     ]
    }
   ],
   "source": [
    "#testing set prediction\n",
    "y_pred_normal,error_percentage=lr.predictUsingNormalEquation(X_test,Y_test)\n",
    "y_pred_normal=fs.inverse_transform_Y(y_pred_normal)\n",
    "print(error_percentage)"
   ]
  },
  {
   "cell_type": "code",
   "execution_count": 46,
   "metadata": {},
   "outputs": [
    {
     "name": "stdout",
     "output_type": "stream",
     "text": [
      "0.33847599637928405\n"
     ]
    }
   ],
   "source": [
    "#training set prediction\n",
    "y_pred_train_normal,error_percentage_train_normal=lr.predictUsingNormalEquation(X_train,Y_train)\n",
    "y_pred_train_normal=fs.inverse_transform_Y(y_pred_train_normal)\n",
    "print(lr.computeCostFunction())"
   ]
  },
  {
   "cell_type": "code",
   "execution_count": 47,
   "metadata": {},
   "outputs": [],
   "source": [
    "#learning parameters\n",
    "n_iter=1000\n",
    "alpha=0.05\n",
    "\n",
    "theta,J_Array,theta_array=lr.performGradientDescent(n_iter,alpha)"
   ]
  },
  {
   "cell_type": "code",
   "execution_count": 48,
   "metadata": {},
   "outputs": [
    {
     "name": "stdout",
     "output_type": "stream",
     "text": [
      "[  39.09321197   -4.94550441 -222.19165107   -8.81663522   -0.48010911\n",
      "   66.7495239   -11.60077365  -17.37404801  106.88114641  -25.0445597\n",
      "  -40.3159298     1.2512557   -34.73562886    0.99915443]\n"
     ]
    }
   ],
   "source": [
    "y_pred_grad,ErrorPercentage=lr.predict(X_test,Y_test)\n",
    "print(ErrorPercentage)\n",
    "y_pred_grad=fs.inverse_transform_Y(y_pred_grad)"
   ]
  },
  {
   "cell_type": "code",
   "execution_count": 49,
   "metadata": {},
   "outputs": [
    {
     "name": "stdout",
     "output_type": "stream",
     "text": [
      "[   2.12724445   -8.62348056   -8.26870613   29.44135662  -28.13135043\n",
      "  -27.63846163  -73.67730312 -165.51839112   15.88855286    1.31675321\n",
      "  463.99522009   15.99935848   18.48436425   -7.03351236  -14.19387814\n",
      "  -34.48949922   67.12857624  -37.2690331    15.46391377   20.79254367\n",
      "   56.11241254 -123.47780159   61.82737024  -17.8360707     1.0172539\n",
      "   24.5600268    90.02375465  -43.23662318  -16.24106835  -11.16065736\n",
      "  -15.50407894   -1.2349843 ]\n"
     ]
    }
   ],
   "source": [
    "#let's see how train set is predicted\n",
    "y_pred_train,error_for_train=lr.predict(X_train,Y_train)\n",
    "y_pred_train=fs.inverse_transform_Y(y_pred_train)\n",
    "print(error_for_train)"
   ]
  },
  {
   "cell_type": "code",
   "execution_count": 50,
   "metadata": {},
   "outputs": [],
   "source": [
    "#inverse scaling the features\n",
    "X_train=fs.inverse_transform_X(X_train)\n",
    "Y_train=fs.inverse_transform_Y(Y_train)\n",
    "X_test=fs.inverse_transform_X(X_test)\n",
    "Y_test=fs.inverse_transform_Y(Y_test)"
   ]
  },
  {
   "cell_type": "code",
   "execution_count": 51,
   "metadata": {},
   "outputs": [
    {
     "data": {
      "image/png": "[encoded data removed]",
      "text/plain": [
       "<Figure size 640x480 with 1 Axes>"
      ]
     },
     "metadata": {},
     "output_type": "display_data"
    }
   ],
   "source": [
    "#plot of how cost function is minimized as number of iterations is proceeded\n",
    "x=[i for i in range(1000)]\n",
    "plt.plot(x,J_Array)\n",
    "plt.xlabel('Number of iterations')\n",
    "plt.ylabel('Cost function(J)')\n",
    "plt.show()"
   ]
  },
  {
   "cell_type": "code",
   "execution_count": 52,
   "metadata": {},
   "outputs": [
    {
     "name": "stdout",
     "output_type": "stream",
     "text": [
      "Mean Squared Error: 46168286.212346606\n",
      "R-squared: 0.9585518041772564\n"
     ]
    }
   ],
   "source": [
    "from sklearn.metrics import mean_squared_error, r2_score\n",
    "mse = mean_squared_error(Y_test, y_pred_grad)\n",
    "r2 = r2_score(Y_test, y_pred_grad)\n",
    "print('Mean Squared Error:', mse)\n",
    "print('R-squared:', r2)"
   ]
  },
  {
   "cell_type": "markdown",
   "metadata": {},
   "source": []
  }
 ],
 "metadata": {
  "kernelspec": {
   "display_name": "Python 3",
   "language": "python",
   "name": "python3"
  },
  "language_info": {
   "codemirror_mode": {
    "name": "ipython",
    "version": 3
   },
   "file_extension": ".py",
   "mimetype": "text/x-python",
   "name": "python",
   "nbconvert_exporter": "python",
   "pygments_lexer": "ipython3",
   "version": "3.11.5"
  }
 },
 "nbformat": 4,
 "nbformat_minor": 2
}
